{
 "cells": [
  {
   "cell_type": "markdown",
   "id": "eb7043fc",
   "metadata": {},
   "source": [
    "# Client code for using Solar Mini Chat SageMaker Endpoint "
   ]
  },
  {
   "cell_type": "markdown",
   "id": "8239f7ef",
   "metadata": {},
   "source": [
    "This notebook demonstrates how to invoke SageMaker inference endpoint."
   ]
  },
  {
   "cell_type": "markdown",
   "id": "2ae029af",
   "metadata": {},
   "source": [
    "## 1. Set AWS credentials"
   ]
  },
  {
   "cell_type": "code",
   "execution_count": null,
   "id": "b498c5a2-51c6-4806-8e9e-b7164f8fa6c0",
   "metadata": {},
   "outputs": [],
   "source": [
    "import os\n",
    "\n",
    "# set your aws credential\n",
    "# os.environ['AWS_ACCESS_KEY_ID']='xxx'\n",
    "# os.environ['AWS_SECRET_ACCESS_KEY']='xxx'\n",
    "# os.environ['AWS_DEFAULT_REGION']='xxx'\n",
    "\n",
    "# or aws profile\n",
    "os.environ['AWS_PROFILE']='YOUR_AWS_PROFILE'"
   ]
  },
  {
   "cell_type": "markdown",
   "id": "f043326c",
   "metadata": {},
   "source": [
    "## 2. Prepare input"
   ]
  },
  {
   "cell_type": "code",
   "execution_count": null,
   "id": "eaa9ffbe-a922-4842-ab96-45a014c488b1",
   "metadata": {},
   "outputs": [],
   "source": [
    "import boto3\n",
    "\n",
    "# Create a low-level client representing Amazon SageMaker Runtime\n",
    "sagemaker_runtime = boto3.client(\"sagemaker-runtime\")\n",
    "endpoint_name='YOUR_ENDPOINT_NAME'"
   ]
  },
  {
   "cell_type": "markdown",
   "id": "9fb36257",
   "metadata": {},
   "source": [
    "## 3. Invoke endpoint"
   ]
  },
  {
   "cell_type": "code",
   "execution_count": null,
   "id": "7a4aa322",
   "metadata": {},
   "outputs": [],
   "source": [
    "import json\n",
    "\n",
    "body = {\n",
    "    \"messages\": [\n",
    "      {\n",
    "        \"role\": \"system\",\n",
    "        \"content\": \"You are a helpful assistant.\"\n",
    "      },\n",
    "      {\n",
    "        \"role\": \"user\",\n",
    "        \"content\": \"What is Large Language Model?\"\n",
    "      }\n",
    "    ],\n",
    "    \"stream\": False\n",
    "}\n",
    "\n",
    "response = sagemaker_runtime.invoke_endpoint(EndpointName=endpoint_name, ContentType='application/json', Body=json.dumps(body))\n",
    "result = json.loads(response['Body'].read().decode())\n",
    "print(result)"
   ]
  }
 ],
 "metadata": {
  "kernelspec": {
   "display_name": "Python 3 (ipykernel)",
   "language": "python",
   "name": "python3"
  },
  "language_info": {
   "codemirror_mode": {
    "name": "ipython",
    "version": 3
   },
   "file_extension": ".py",
   "mimetype": "text/x-python",
   "name": "python",
   "nbconvert_exporter": "python",
   "pygments_lexer": "ipython3",
   "version": "3.9.13"
  }
 },
 "nbformat": 4,
 "nbformat_minor": 5
}
